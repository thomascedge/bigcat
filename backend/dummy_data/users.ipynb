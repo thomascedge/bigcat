{
 "cells": [
  {
   "cell_type": "code",
   "execution_count": 2,
   "id": "910628b1",
   "metadata": {},
   "outputs": [],
   "source": [
    "from pydantic import BaseModel, EmailStr, BeforeValidator, Field\n",
    "from datetime import datetime\n",
    "from typing import Optional, Annotated\n",
    "\n",
    "PyObjectId = Annotated[str, BeforeValidator(str)]\n",
    "\n",
    "class User(BaseModel):\n",
    "    uid: str\n",
    "    first_name: str\n",
    "    last_name: str\n",
    "    email: str\n",
    "    password_hash: str\n",
    "    admin: bool"
   ]
  },
  {
   "cell_type": "code",
   "execution_count": 3,
   "id": "7ed17414",
   "metadata": {},
   "outputs": [],
   "source": [
    "from passlib.context import CryptContext\n",
    "bcrypt_context = CryptContext(schemes=['bcrypt'], deprecated='auto')\n",
    "\n",
    "def get_password_hash(password: str) -> str:\n",
    "    return bcrypt_context.hash(password)"
   ]
  },
  {
   "cell_type": "code",
   "execution_count": 9,
   "id": "ed23d668",
   "metadata": {},
   "outputs": [],
   "source": [
    "import os\n",
    "from dotenv import load_dotenv\n",
    "from pymongo.mongo_client import MongoClient\n",
    "from pymongo.server_api import ServerApi\n",
    "\n",
    "# get password and uri for database connection\n",
    "load_dotenv()\n",
    "db_password = os.getenv('MONGO_PASSWORD')\n",
    "uri = os.getenv('DATABASE_URI').replace('db_password', db_password)\n",
    "\n",
    "# create client and connect to server\n",
    "client = MongoClient(uri, server_api=ServerApi('1'))\n",
    "\n",
    "# ping for confirmation and update databases\n",
    "db = client['bigcat']"
   ]
  },
  {
   "cell_type": "code",
   "execution_count": 10,
   "id": "c1e3c2b8",
   "metadata": {},
   "outputs": [
    {
     "name": "stdout",
     "output_type": "stream",
     "text": [
      "Done!\n"
     ]
    }
   ],
   "source": [
    "import requests\n",
    "import random\n",
    "from uuid import uuid4\n",
    "\n",
    "response = requests.get('https://dummyjson.com/users')\n",
    "data = response.json()['users']\n",
    "\n",
    "email_suffixes = ['gmail.com', 'outlook.com', 'icloud.com', 'yahoo.com']\n",
    "\n",
    "for d in data:\n",
    "    # change email to something real\n",
    "\n",
    "    random_number = random.randint(0, len(email_suffixes)-1)\n",
    "    email = d['email'].replace('x.dummyjson.com', email_suffixes[random_number])\n",
    "\n",
    "    user = User(\n",
    "        uid=str(uuid4()),\n",
    "        first_name=d['firstName'],\n",
    "        last_name=d['lastName'],\n",
    "        email=email,\n",
    "        password_hash=get_password_hash(d['password']),\n",
    "        admin=False\n",
    "    )\n",
    "\n",
    "    db['user'].insert_one(user.__dict__)\n",
    "\n",
    "print('Done!')"
   ]
  },
  {
   "cell_type": "code",
   "execution_count": null,
   "id": "a4db94b0",
   "metadata": {},
   "outputs": [
    {
     "name": "stdout",
     "output_type": "stream",
     "text": [
      "3TEN Austin City Limits Live {'layout': {'GA': [1, 0, 350, 50]}}\n",
      "Antone's Austin {'layout': {'GA': [1, 0, 750, 15]}}\n",
      "Austin City Limits Live at The Moody Theater {'layout': {'GA': [1, 0, 300, 35, 50], 'MEZZ': [8, 3, 25, 45], 'BALC': [6, 12, 22, 30]}}\n",
      "Brauntex Performing Arts Theatre {'layout': {'GA': [1, 0, 586, 40]}}\n",
      "Cheatham Street Warehouse {'layout': {'GA': [1, 0, 500, 20]}}\n",
      "Empire - Control Room {'layout': {'GA': [1, 0, 300, 35]}}\n",
      "Germania Insurance Amphitheater {'layout': {'GA-Pit': [1, 0, 800, 50], '100-Level': [7, 12, 30, 65], '200-Level': [4, 31, 30, 55], 'GA-Lawn': [1, 0, 7000, 20]}}\n",
      "Gruene Hall {'layout': {'GA': [1, 0, 800, 20]}}\n",
      "Long Center for the Performing Arts - Dell Hall {'layout': {'Orchestra': [3, 17, 20, 45], 'Parterre': [3, 9, 25, 25]}}\n",
      "Moody Amphitheater {'layout': {'GA': [1, 0, 5000, 40]}}\n",
      "Moody Center {'layout': {'Pit': [2, 0, 200, 200], 'GA': [9, 0, 100, 100], '100-Level': [14, 10, 30, 90], '200-Level': [9, 7, 30, 70], 'S-Level': [9, 3, 7, 105], 'P-Level': [9, 3, 7, 120]}}\n",
      "Paramount Theatre Austin {'layout': {'Orchestra': [3, 20, 10, 60], 'Mezz': [4, 6, 9, 40], 'Balcony': [4, 8, 12, 30], 'Upper Balcony': [3, 9, 10, 10]}}\n",
      "Scoot Inn {'layout': {'GA': [1, 0, 800, 25]}}\n",
      "Stubbs BarBQ {'layout': {'GA': [1, 0, 2500, 25]}}\n",
      "The Concourse Project {'layout': {'GA': [1, 0, 7000, 50]}}\n",
      "Zilker Park {'layout': {'GA': [1, 0, 75000, 50]}}\n"
     ]
    }
   ],
   "source": [
    "import json\n",
    "\n",
    "with open('seating_chart.json', 'r') as file:\n",
    "    data = json.load(file)\n",
    "\n",
    "del data['schema']\n",
    "for key, val in data.items():\n",
    "    print(key, val)"
   ]
  },
  {
   "cell_type": "code",
   "execution_count": 17,
   "id": "f9b98044",
   "metadata": {},
   "outputs": [],
   "source": [
    "names_list = ['three_ten', 'antones', 'acl_live', 'brantex', 'cheatham', 'empire_control_room', 'germania', 'gruene', 'long_center', 'moody', 'paramount', 'scoot', 'stubbs', 'concourse_project', 'zilker']\n",
    "\n",
    "for name in names_list:\n",
    "    user = User(\n",
    "            uid=str(uuid4()),\n",
    "            first_name='Admin',\n",
    "            last_name=name.title().replace('_', ' '),\n",
    "            email=name + '@bigcat.com',\n",
    "            password_hash=get_password_hash(name + '_admin'),\n",
    "            admin=True\n",
    "        )\n",
    "\n",
    "    db['user'].insert_one(user.__dict__)"
   ]
  },
  {
   "cell_type": "code",
   "execution_count": null,
   "id": "0d7ae27b",
   "metadata": {},
   "outputs": [
    {
     "name": "stdout",
     "output_type": "stream",
     "text": [
      "2 duplicates found.\n",
      "2 duplicate documents removed.\n"
     ]
    }
   ],
   "source": [
    "pipeline = [\n",
    "    {\n",
    "        '$group': {\n",
    "            '_id': {'last_name': '$last_name',},\n",
    "            'duplicate_ids': {'$push': '$uid'},\n",
    "            'count': {'$sum': 1}\n",
    "        }\n",
    "    },\n",
    "    {\n",
    "        '$match': {\n",
    "            'count': {'$gt': 1}\n",
    "        }\n",
    "    }\n",
    "]\n",
    "\n",
    "duplicates = list(db['user'].aggregate(pipeline))\n",
    "print(f'{len(duplicates)} duplicates found.')\n",
    "\n",
    "counter = 0\n",
    "\n",
    "for doc in duplicates:\n",
    "        ids_to_remove = doc['duplicate_ids'][1:]  # Keep the first, remove the rest\n",
    "        if ids_to_remove:\n",
    "            db['user'].delete_many({'uid': {'$in': ids_to_remove}})\n",
    "        counter += 1\n",
    "\n",
    "print(f\"{counter} duplicates documents removed.\")"
   ]
  },
  {
   "cell_type": "code",
   "execution_count": null,
   "id": "63bd5689",
   "metadata": {},
   "outputs": [],
   "source": []
  }
 ],
 "metadata": {
  "kernelspec": {
   "display_name": ".venv",
   "language": "python",
   "name": "python3"
  },
  "language_info": {
   "codemirror_mode": {
    "name": "ipython",
    "version": 3
   },
   "file_extension": ".py",
   "mimetype": "text/x-python",
   "name": "python",
   "nbconvert_exporter": "python",
   "pygments_lexer": "ipython3",
   "version": "3.12.9"
  }
 },
 "nbformat": 4,
 "nbformat_minor": 5
}
