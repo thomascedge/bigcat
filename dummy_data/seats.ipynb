{
 "cells": [
  {
   "cell_type": "code",
   "execution_count": 1,
   "id": "91a921e2",
   "metadata": {},
   "outputs": [],
   "source": [
    "from pydantic import BaseModel, ConfigDict, BeforeValidator, Field, EmailStr\n",
    "from enum import Enum\n",
    "from typing import Optional, Annotated\n",
    "\n",
    "PyObjectId = Annotated[str, BeforeValidator(str)]\n",
    "\n",
    "class SeatType(Enum):\n",
    "    REGULAR = 0\n",
    "    PREMIUM = 1\n",
    "    VIP = 2\n",
    "\n",
    "class SeatStatus(Enum):\n",
    "    AVAILABLE = 0\n",
    "    BOOKED = 1\n",
    "    RESERVED = 2\n",
    "\n",
    "\n",
    "class Seat(BaseModel):\n",
    "    id: Optional[PyObjectId] = Field(alias='_id', default=None) # primary key\n",
    "    uid: str\n",
    "    concert_id: str\n",
    "    venue: str\n",
    "    seat_number: str\n",
    "    seat_type: SeatType\n",
    "    price: float\n",
    "    status: SeatStatus\n",
    "\n",
    "    model_config = ConfigDict(use_enum_values=True)\n"
   ]
  },
  {
   "cell_type": "code",
   "execution_count": null,
   "id": "51eac91f",
   "metadata": {},
   "outputs": [],
   "source": [
    "from mongo import db"
   ]
  },
  {
   "cell_type": "code",
   "execution_count": null,
   "id": "5e85adf6",
   "metadata": {},
   "outputs": [
    {
     "name": "stdout",
     "output_type": "stream",
     "text": [
      "3TEN Austin City Limits Live {'layout': {'GA': [1, 0, 350, 50]}}\n",
      "Antone's Austin {'layout': {'GA': [1, 0, 750, 15]}}\n",
      "Austin City Limits Live at The Moody Theater {'layout': {'GA': [1, 0, 300, 35, 50], 'MEZZ': [8, 3, 25, 45], 'BALC': [6, 12, 22, 30]}}\n",
      "Brauntex Performing Arts Theatre {'layout': {'GA': [1, 0, 586, 40]}}\n",
      "Cheatham Street Warehouse {'layout': {'GA': [1, 0, 500, 20]}}\n",
      "Empire - Control Room {'layout': {'GA': [1, 0, 300, 35]}}\n",
      "Germania Insurance Amphitheater {'layout': {'GA-Pit': [1, 0, 800, 50], '100-Level': [7, 12, 30, 65], '200-Level': [4, 31, 30, 55], 'GA-Lawn': [1, 0, 7000, 20]}}\n",
      "Gruene Hall {'layout': {'GA': [1, 0, 800, 20]}}\n",
      "Long Center for the Performing Arts - Dell Hall {'layout': {'Orchestra': [3, 17, 20, 45], 'Parterre': [3, 9, 25, 25]}}\n",
      "Moody Amphitheater {'layout': {'GA': [1, 0, 5000, 40]}}\n",
      "Moody Center {'layout': {'Pit': [2, 0, 200, 200], 'GA': [9, 0, 100, 100], '100-Level': [14, 10, 30, 90], '200-Level': [9, 7, 30, 70], 'S-Level': [9, 3, 7, 105], 'P-Level': [9, 3, 7, 120]}}\n",
      "Paramount Theatre Austin {'layout': {'Orchestra': [3, 20, 10, 60], 'Mezz': [4, 6, 9, 40], 'Balcony': [4, 8, 12, 30], 'Upper Balcony': [3, 9, 10, 10]}}\n",
      "Scoot Inn {'layout': {'GA': [1, 0, 800, 25]}}\n",
      "Stubbs BarBQ {'layout': {'GA': [1, 0, 2500, 25]}}\n",
      "The Concourse Project {'layout': {'GA': [1, 0, 7000, 50]}}\n",
      "Zilker Park {'layout': {'GA': [1, 0, 75000, 50]}}\n"
     ]
    }
   ],
   "source": [
    "import json\n",
    "\n",
    "with open('seating_chart.json', 'r') as file:\n",
    "    data = json.load(file)\n",
    "\n",
    "del data['schema']\n",
    "for key, val in data.items():\n",
    "    print(key, val)"
   ]
  },
  {
   "cell_type": "code",
   "execution_count": 4,
   "id": "431858e6",
   "metadata": {},
   "outputs": [
    {
     "name": "stdout",
     "output_type": "stream",
     "text": [
      "Done!\n"
     ]
    }
   ],
   "source": [
    "from uuid import uuid4\n",
    "\n",
    "VIP = ['GA-Pit', 'Orchestra']\n",
    "PREMIUM = ['100-Level', 'S-Level', 'P-Level']\n",
    "\n",
    "for venue, info in data.items():\n",
    "    docs = db['concert'].find({'venue': venue})\n",
    "\n",
    "    for doc in docs:\n",
    "        concert_id = doc['uid']\n",
    "        venue = key\n",
    "        \n",
    "        for section, section_data in info['layout'].items():\n",
    "            num_sections = range(1, section_data[0] + 1)\n",
    "            num_rows = range(ord('A'), ord(chr(section_data[1] + 66)))\n",
    "            num_seats = range(1, section_data[2] + 1)\n",
    "            price_min = section_data[3]\n",
    "\n",
    "            if section == 'GA':\n",
    "                for seat in num_seats:\n",
    "                    seat_number = f'{section} {seat}'\n",
    "                    seat = Seat(\n",
    "                        uid=str(uuid4()),\n",
    "                        concert_id=concert_id,\n",
    "                        venue=venue,\n",
    "                        seat_number=seat_number,\n",
    "                        seat_type=SeatType.REGULAR,\n",
    "                        price=price_min,\n",
    "                        status=SeatStatus.AVAILABLE\n",
    "                    )\n",
    "                \n",
    "                    db['seat'].insert_one(seat.__dict__)\n",
    "            \n",
    "            else:\n",
    "                # loop for seat number. maybe zip num_sections, num_rows, and num_seats\n",
    "                for section_num in num_sections:\n",
    "                    for row in num_rows:\n",
    "                        for seat in num_seats:\n",
    "                            seat_number = f'{section} Section {section_num} Row {chr(row)} Seat {seat}'\n",
    "\n",
    "                            if section in VIP:\n",
    "                                seat_type = SeatType.VIP\n",
    "                            elif section in PREMIUM:\n",
    "                                seat_type = SeatType.PREMIUM\n",
    "                            else:\n",
    "                                seat_type = SeatType.REGULAR\n",
    "\n",
    "                            seat = Seat(\n",
    "                                uid=str(uuid4()),\n",
    "                                concert_id=concert_id,\n",
    "                                venue=venue,\n",
    "                                seat_number=seat_number,\n",
    "                                seat_type=seat_type,\n",
    "                                price=price_min,\n",
    "                                status=SeatStatus.AVAILABLE\n",
    "                            )\n",
    "\n",
    "                            db['seat'].insert_one(seat.__dict__)\n",
    "\n",
    "print('Done!')"
   ]
  },
  {
   "cell_type": "code",
   "execution_count": null,
   "id": "1d7eade1",
   "metadata": {},
   "outputs": [
    {
     "name": "stdout",
     "output_type": "stream",
     "text": [
      "0 duplicates found.\n"
     ]
    }
   ],
   "source": [
    "pipeline = [\n",
    "    {\n",
    "        '$group': {\n",
    "            '_id': {\n",
    "                'concert_id': '$concert_id',\n",
    "                'venue': '$venue',\n",
    "                'seat_number': '$seat_number',\n",
    "                'seat_type': '$seat_type',\n",
    "                'price': '$price',\n",
    "                'status': '$status',\n",
    "                },\n",
    "            'duplicate_ids': {'$push': '$uid'},\n",
    "            'count': {'$sum': 1}\n",
    "        }\n",
    "    },\n",
    "    {\n",
    "        '$match': {\n",
    "            'count': {'$gt': 1}\n",
    "        }\n",
    "    }\n",
    "]\n",
    "\n",
    "duplicates = list(db['seat'].aggregate(pipeline))\n",
    "print(f'{len(duplicates)} duplicates found.')\n",
    "\n",
    "counter = 0\n",
    "\n",
    "for doc in duplicates:\n",
    "        ids_to_remove = doc['duplicate_ids'][1:]  # Keep the first, remove the rest\n",
    "        if ids_to_remove:\n",
    "            db['seat'].delete_many({'uid': {'$in': ids_to_remove}})\n",
    "        counter += 1\n",
    "\n",
    "print(f\"{counter} duplicates documents removed.\")"
   ]
  }
 ],
 "metadata": {
  "kernelspec": {
   "display_name": ".venv",
   "language": "python",
   "name": "python3"
  },
  "language_info": {
   "codemirror_mode": {
    "name": "ipython",
    "version": 3
   },
   "file_extension": ".py",
   "mimetype": "text/x-python",
   "name": "python",
   "nbconvert_exporter": "python",
   "pygments_lexer": "ipython3",
   "version": "3.12.9"
  }
 },
 "nbformat": 4,
 "nbformat_minor": 5
}
