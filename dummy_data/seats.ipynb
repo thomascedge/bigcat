{
 "cells": [
  {
   "cell_type": "code",
   "execution_count": 12,
   "id": "91a921e2",
   "metadata": {},
   "outputs": [],
   "source": [
    "from pydantic import BaseModel, ConfigDict, BeforeValidator, Field, EmailStr\n",
    "from enum import Enum\n",
    "from typing import Optional, Annotated\n",
    "\n",
    "PyObjectId = Annotated[str, BeforeValidator(str)]\n",
    "\n",
    "class SeatType(Enum):\n",
    "    REGULAR = 0\n",
    "    PREMIUM = 1\n",
    "    VIP = 2\n",
    "\n",
    "class SeatStatus(Enum):\n",
    "    AVAILABLE = 0\n",
    "    BOOKED = 1\n",
    "    RESERVED = 2\n",
    "\n",
    "\n",
    "class Seat(BaseModel):\n",
    "    id: Optional[PyObjectId] = Field(alias='_id', default=None) # primary key\n",
    "    uid: str\n",
    "    concert_id: str\n",
    "    venue: str\n",
    "    seat_number: str\n",
    "    seat_type: SeatType\n",
    "    price: float\n",
    "    status: SeatStatus\n",
    "\n",
    "    model_config = ConfigDict(use_enum_values=True)\n"
   ]
  },
  {
   "cell_type": "code",
   "execution_count": 13,
   "id": "51eac91f",
   "metadata": {},
   "outputs": [],
   "source": [
    "import os\n",
    "from dotenv import load_dotenv\n",
    "from pymongo.mongo_client import MongoClient\n",
    "from pymongo.server_api import ServerApi\n",
    "\n",
    "# get password and uri for database connection\n",
    "load_dotenv()\n",
    "db_password = os.getenv('MONGO_PASSWORD')\n",
    "uri = os.getenv('DATABASE_URI').replace('db_password', db_password)\n",
    "\n",
    "# create client and connect to server\n",
    "client = MongoClient(uri, server_api=ServerApi('1'))\n",
    "\n",
    "# ping for confirmation and update databases\n",
    "db = client['bigcat']\n"
   ]
  },
  {
   "cell_type": "code",
   "execution_count": 14,
   "id": "5e85adf6",
   "metadata": {},
   "outputs": [
    {
     "name": "stdout",
     "output_type": "stream",
     "text": [
      "3TEN Austin City Limits Live {'layout': {'GA': [1, 0, 350, 50]}}\n",
      "Antone's Austin {'layout': {'GA': [1, 0, 750, 15]}}\n",
      "Austin City Limits Live at The Moody Theater {'layout': {'GA': [1, 0, 300, 35, 50], 'MEZZ': [8, 3, 25, 45], 'BALC': [6, 12, 22, 30]}}\n",
      "Brauntex Performing Arts Theatre {'layout': {'GA': [1, 0, 586, 40]}}\n",
      "Cheatham Street Warehouse {'layout': {'GA': [1, 0, 500, 20]}}\n",
      "Empire - Control Room {'layout': {'GA': [1, 0, 300, 35]}}\n",
      "Germania Insurance Amphitheater {'layout': {'GA-Pit': [1, 0, 800, 50], '100-Level': [7, 12, 30, 65], '200-Level': [4, 31, 30, 55], 'GA-Lawn': [1, 0, 7000, 20]}}\n",
      "Gruene Hall {'layout': {'GA': [1, 0, 800, 20]}}\n",
      "Long Center for the Performing Arts - Dell Hall {'layout': {'Orchestra': [3, 17, 20, 45], 'Parterre': [3, 9, 25, 25]}}\n",
      "Moody Amphitheater {'layout': {'GA': [1, 0, 5000, 40]}}\n",
      "Moody Center {'layout': {'Pit': [2, 0, 200, 200], 'GA': [9, 0, 100, 100], '100-Level': [14, 10, 30, 90], '200-Level': [9, 7, 30, 70], 'S-Level': [9, 3, 7, 105], 'P-Level': [9, 3, 7, 120]}}\n",
      "Paramount Theatre Austin {'layout': {'Orchestra': [3, 20, 10, 60], 'Mezz': [4, 6, 9, 40], 'Balcony': [4, 8, 12, 30], 'Upper Balcony': [3, 9, 10, 10]}}\n",
      "Scoot Inn {'layout': {'GA': [1, 0, 800, 25]}}\n",
      "Stubbs BarBQ {'layout': {'GA': [1, 0, 2500, 25]}}\n",
      "The Concourse Project {'layout': {'GA': [1, 0, 7000, 50]}}\n",
      "Zilker Park {'layout': {'GA': [1, 0, 75000, 50]}}\n"
     ]
    }
   ],
   "source": [
    "import json\n",
    "\n",
    "with open('seating_chart.json', 'r') as file:\n",
    "    data = json.load(file)\n",
    "\n",
    "del data['schema']\n",
    "for key, val in data.items():\n",
    "    print(key, val)"
   ]
  },
  {
   "cell_type": "code",
   "execution_count": null,
   "id": "431858e6",
   "metadata": {},
   "outputs": [
    {
     "name": "stdout",
     "output_type": "stream",
     "text": [
      "{'_id': ObjectId('68c41e5fe87102fa1497f92e'), 'id': None, 'uid': '5df2c597-1a9a-46e6-a0da-2f0d0a7a525c', 'artist': 'Aloe Blacc', 'tour_name': None, 'venue': '3TEN Austin City Limits Live', 'location': 'Austin, TX, USA', 'concert_datetime': datetime.datetime(2025, 9, 12, 21, 0), 'status': 1, 'update_datetime': datetime.datetime(2025, 9, 12, 8, 20, 50, 525000)}\n",
      "{'_id': ObjectId('68c41e5ee87102fa1497f90e'), 'id': None, 'uid': '6e70039e-b9ce-4e74-b518-80c9080cd34a', 'artist': 'Addison Rae', 'tour_name': None, 'venue': 'Austin City Limits Live at The Moody Theater', 'location': 'Austin, TX, USA', 'concert_datetime': datetime.datetime(2025, 9, 22, 20, 0), 'status': 1, 'update_datetime': datetime.datetime(2025, 9, 12, 8, 20, 50, 525000)}\n",
      "{'_id': ObjectId('68c41e5fe87102fa1497f930'), 'id': None, 'uid': '506d6ad0-a742-4356-af03-573e99305f85', 'artist': 'Donny Edwards', 'tour_name': None, 'venue': 'Brauntex Performing Arts Theatre', 'location': 'Austin, TX, USA', 'concert_datetime': datetime.datetime(2025, 9, 13, 19, 30), 'status': 1, 'update_datetime': datetime.datetime(2025, 9, 12, 8, 20, 50, 525000)}\n",
      "{'_id': ObjectId('68c41e5fe87102fa1497f92d'), 'id': None, 'uid': '360d3026-7bd9-4bfd-b2a6-87a53127d5fe', 'artist': 'Mitchell Ferguson (18+ Event)', 'tour_name': None, 'venue': 'Cheatham Street Warehouse', 'location': 'Austin, TX, USA', 'concert_datetime': datetime.datetime(2025, 9, 12, 20, 0), 'status': 1, 'update_datetime': datetime.datetime(2025, 9, 12, 8, 20, 50, 525000)}\n",
      "{'_id': ObjectId('68c41e60e87102fa1497f931'), 'id': None, 'uid': '28325bd6-8155-40db-8ac7-492d898ba5a5', 'artist': 'Mehro', 'tour_name': None, 'venue': 'Empire - Control Room', 'location': 'Austin, TX, USA', 'concert_datetime': datetime.datetime(2025, 9, 13, 20, 0), 'status': 1, 'update_datetime': datetime.datetime(2025, 9, 12, 8, 20, 50, 525000)}\n",
      "{'_id': ObjectId('68c41e5ee87102fa1497f908'), 'id': None, 'uid': '94b98e4d-4eb8-48f9-aad8-813e9671e94a', 'artist': 'SuicideBoys', 'tour_name': None, 'venue': 'Germania Insurance Amphitheater', 'location': 'Austin, TX, USA', 'concert_datetime': datetime.datetime(2025, 9, 12, 18, 30), 'status': 1, 'update_datetime': datetime.datetime(2025, 9, 12, 8, 20, 50, 525000)}\n",
      "{'_id': ObjectId('68c41e5fe87102fa1497f92b'), 'id': None, 'uid': '1220a351-2124-4682-8cf0-7f7dcc0848ff', 'artist': 'Giovannie and The Hired Guns', 'tour_name': None, 'venue': 'Gruene Hall', 'location': 'Austin, TX, USA', 'concert_datetime': datetime.datetime(2025, 9, 12, 21, 30), 'status': 1, 'update_datetime': datetime.datetime(2025, 9, 12, 8, 20, 50, 525000)}\n",
      "{'_id': ObjectId('68c41e60e87102fa1497f934'), 'id': None, 'uid': 'a00e9cd1-ab4a-43cb-8ecb-309c8dab2c1e', 'artist': 'Austin Symphony Orchestra - Across The Globe', 'tour_name': None, 'venue': 'Long Center for the Performing Arts - Dell Hall', 'location': 'Austin, TX, USA', 'concert_datetime': datetime.datetime(2025, 9, 13, 20, 0), 'status': 1, 'update_datetime': datetime.datetime(2025, 9, 12, 8, 20, 50, 525000)}\n",
      "{'_id': ObjectId('68c41e5ee87102fa1497f914'), 'id': None, 'uid': 'a6b994f5-af51-4299-965e-6c8cc33f0db5', 'artist': 'Turnstile', 'tour_name': None, 'venue': 'Moody Amphitheater', 'location': 'Austin, TX, USA', 'concert_datetime': datetime.datetime(2025, 10, 14, 19, 0), 'status': 1, 'update_datetime': datetime.datetime(2025, 9, 12, 8, 20, 50, 525000)}\n",
      "{'_id': ObjectId('68c41e5fe87102fa1497f927'), 'id': None, 'uid': '020d34db-827e-4d01-8a1e-470e7e746a46', 'artist': 'Marty Stuart', 'tour_name': None, 'venue': 'Paramount Theatre Austin', 'location': 'Austin, TX, USA', 'concert_datetime': datetime.datetime(2025, 9, 12, 20, 0), 'status': 1, 'update_datetime': datetime.datetime(2025, 9, 12, 8, 20, 50, 525000)}\n",
      "{'_id': ObjectId('68c41e5fe87102fa1497f92f'), 'id': None, 'uid': '6b3dadd1-8b35-4bd7-b080-c8e912f28ea3', 'artist': 'Samia', 'tour_name': None, 'venue': 'Scoot Inn', 'location': 'Austin, TX, USA', 'concert_datetime': datetime.datetime(2025, 9, 12, 19, 30), 'status': 1, 'update_datetime': datetime.datetime(2025, 9, 12, 8, 20, 50, 525000)}\n",
      "{'_id': ObjectId('68c41e5fe87102fa1497f928'), 'id': None, 'uid': '8c780d18-4789-421e-a722-d8bd7e036ee8', 'artist': 'Night Cap', 'tour_name': None, 'venue': 'Stubbs BarBQ', 'location': 'Austin, TX, USA', 'concert_datetime': datetime.datetime(2025, 9, 12, 19, 0), 'status': 1, 'update_datetime': datetime.datetime(2025, 9, 12, 8, 20, 50, 525000)}\n",
      "{'_id': ObjectId('68c41e5fe87102fa1497f929'), 'id': None, 'uid': '4ab115b8-6e07-4bd2-b27a-ac3fb39066dc', 'artist': 'Sullivan King (18+ Event)', 'tour_name': None, 'venue': 'The Concourse Project', 'location': 'Austin, TX, USA', 'concert_datetime': datetime.datetime(2025, 9, 13, 21, 0), 'status': 1, 'update_datetime': datetime.datetime(2025, 9, 12, 8, 20, 50, 525000)}\n",
      "{'_id': ObjectId('68c41e5ee87102fa1497f916'), 'id': None, 'uid': '21eb10fa-3042-4128-9d9b-76a8fea3e191', 'artist': '2025 Austin City Limits Festival - Weekend One 3 Day Pass (10/3 - 10/5) (Sabrina Carpenter, Hozier, The Killers, Luke Combs, The Strokes, John Summit, Doechii)', 'tour_name': None, 'venue': 'Zilker Park', 'location': 'Austin, TX, USA', 'concert_datetime': datetime.datetime(2025, 10, 3, 10, 59), 'status': 1, 'update_datetime': datetime.datetime(2025, 9, 12, 8, 20, 50, 525000)}\n"
     ]
    }
   ],
   "source": [
    "from uuid import uuid4\n",
    "\n",
    "for venue, info in data.items():\n",
    "    docs = db['concert'].find({'venue': venue})\n",
    "\n",
    "    for doc in docs:\n",
    "        concert_id = doc['uid']\n",
    "        venue = key\n",
    "        \n",
    "        for section, section_data in info.items():\n",
    "            num_sections = section_data[0]\n",
    "            num_rows = section_data[1]\n",
    "            num_seats = section_data[2]\n",
    "            price_min = section_data[3]\n",
    "\n",
    "            # loop for seat number. maybe zip num_sections, num_rows, and num_seats\n",
    "\n",
    "            seat = Seat(\n",
    "                uid=str(uuid4()),\n",
    "                concert_id=concert_id,\n",
    "                venue=venue,\n",
    "                seat_number=f'{}{}{}',\n",
    "                seat_type=SeatType.REGULAR,\n",
    "                price=price_min,\n",
    "                status=SeatStatus.AVAILABLE\n",
    "            )\n",
    "\n",
    "# for concert in concert_data:\n",
    "#     db['concert'].insert_one(concert.__dict__)"
   ]
  },
  {
   "cell_type": "code",
   "execution_count": null,
   "id": "05aa9e2b",
   "metadata": {},
   "outputs": [
    {
     "data": {
      "text/plain": [
       "<Response [201]>"
      ]
     },
     "execution_count": 6,
     "metadata": {},
     "output_type": "execute_result"
    }
   ],
   "source": [
    "from pydantic import BaseModel, BeforeValidator, ConfigDict\n",
    "from enum import Enum\n",
    "from datetime import datetime\n",
    "from typing import Optional, Annotated\n",
    "from uuid import uuid4\n",
    "import requests\n",
    "\n",
    "PyObjectId = Annotated[str, BeforeValidator(str)]\n",
    "\n",
    "class BookingStatus(Enum):\n",
    "    PENDING = 0\n",
    "    CONFIRMED = 1\n",
    "    CANCELED = 2\n",
    "\n",
    "class PaymentStatus(Enum):\n",
    "    PENDING = 0\n",
    "    SUCCESS = 1\n",
    "    FAILED = 2\n",
    "    CANCELED = 3\n",
    "    REFUNDED = 4\n",
    "    AUTHORIZED = 5\n",
    "\n",
    "\n",
    "class Booking(BaseModel):\n",
    "    uid: str\n",
    "    user_id: str  # foreign key\n",
    "    concert_id: str # foreign key\n",
    "    venue: str\n",
    "    seats: list[str] # foreign keys when exploded\n",
    "    total_price: float\n",
    "    payment_status: PaymentStatus\n",
    "    status: BookingStatus\n",
    "    request_datetime: datetime\n",
    "    update_datetime: datetime\n",
    "    confirmation_id: str\n",
    "\n",
    "    model_config = ConfigDict(use_enum_values=True)\n",
    "    \n",
    "\n",
    "booking = Booking(\n",
    "    uid=str(uuid4()),\n",
    "    user_id='7417d724-83b4-4d5c-b00f-673ffc9fbf9e',\n",
    "    concert_id='6e70039e-b9ce-4e74-b518-80c9080cd34a',\n",
    "    venue='Austin City Limits Live at The Moody Theater',\n",
    "    seats=[],\n",
    "    total_price=[],\n",
    "    status=BookingStatus.CONFIRMED,\n",
    "    request_datetime=datetime.now(),\n",
    "    update_datetime=datetime.now(),\n",
    "    confirmation_id=str(uuid4())[:8]\n",
    ")\n",
    "\n",
    "\n",
    "response = requests.post(\"http://127.0.0.1:8000/auth/\", json=register_data.model_dump())\n",
    "response"
   ]
  }
 ],
 "metadata": {
  "kernelspec": {
   "display_name": ".venv",
   "language": "python",
   "name": "python3"
  },
  "language_info": {
   "codemirror_mode": {
    "name": "ipython",
    "version": 3
   },
   "file_extension": ".py",
   "mimetype": "text/x-python",
   "name": "python",
   "nbconvert_exporter": "python",
   "pygments_lexer": "ipython3",
   "version": "3.12.9"
  }
 },
 "nbformat": 4,
 "nbformat_minor": 5
}
